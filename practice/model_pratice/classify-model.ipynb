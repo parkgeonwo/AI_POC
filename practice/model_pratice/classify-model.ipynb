{
 "cells": [
  {
   "cell_type": "markdown",
   "metadata": {},
   "source": [
    "### 분류 모델 개발"
   ]
  },
  {
   "cell_type": "code",
   "execution_count": null,
   "metadata": {},
   "outputs": [],
   "source": [
    "# 이미지 로드함수 불러오기 \n",
    "\n",
    "import os \n",
    "import re \n",
    "import cv2 \n",
    "import numpy as np \n",
    "\n",
    "\n",
    "def image_load(path): \n",
    "    file_list = os.listdir(path) \n",
    "    file_name=[] \n",
    "\n",
    "    for  i  in  file_list: \n",
    "        a = int( re.sub('[^0-9]','', i) )   # i 가 숫자가 아니면 null 로 변경해라 ~ \n",
    "        file_name.append(a) \n",
    "\n",
    "    file_name.sort() # 정렬작업  \n",
    "\n",
    "    file_res=[] \n",
    "\n",
    "    for  j  in  file_name: \n",
    "        file_res.append('%s/%d.jpg' %(path,j) ) \n",
    "    image=[] \n",
    "\n",
    "    for  k  in  file_res: \n",
    "        img = cv2.imread(k) \n",
    "        image.append(img) \n",
    "\n",
    "    return  np.array(image) \n",
    "\n",
    "\n",
    "# numpy로 바꾸는 함수 \n",
    "\n",
    "import csv \n",
    "\n",
    "def  label_load(path): \n",
    "    file = open(path) \n",
    "    labeldata = csv.reader(file) \n",
    "    labellist = [] \n",
    "    for  i  in  labeldata: \n",
    "        labellist.append(int(i[0])) \n",
    "\n",
    "    return   np.array(labellist) "
   ]
  },
  {
   "cell_type": "code",
   "execution_count": null,
   "metadata": {},
   "outputs": [],
   "source": [
    "# 1. 데이터를 불러옵니다. \n",
    "\n",
    " \n",
    "\n",
    "# 이미지 데이터와 라벨위치  \n",
    "\n",
    "train_image = '/content/drive/MyDrive/dogcat/train_resize/' \n",
    "test_image = '/content/drive/MyDrive/dogcat/test_resize/' \n",
    "train_label = '/content/drive/MyDrive/dogcat/train_label.csv' \n",
    "test_label = '/content/drive/MyDrive/dogcat/test_label.csv' \n",
    "\n",
    "# 데이터 로드  \n",
    "\n",
    "x_train = image_load(train_image) \n",
    "y_train = label_load(train_label) \n",
    "x_test = image_load(test_image) \n",
    "y_test = label_load(test_label)      \n",
    "\n",
    "print(x_train.shape)       # (1595,32,32,3) \n",
    "print(x_test.shape)         # (100, 32, 32, 3) \n",
    "print(y_train.shape)       # (1595,) \n",
    "print(y_test.shape)          # (100,) "
   ]
  },
  {
   "cell_type": "code",
   "execution_count": null,
   "metadata": {},
   "outputs": [],
   "source": [
    "# 1-2. 필요한 패키지 가져오는 코드  \n",
    "\n",
    "\n",
    "import tensorflow as tf   # 텐써 플로우 2.0  \n",
    "from tensorflow.keras.datasets.mnist import load_data  # 텐써플로우에 내장되어있는 mnist 데이터를 가져온다. \n",
    "from tensorflow.keras.models import Sequential  # 모델을 구성하기 위한 모듈 \n",
    "from tensorflow.keras.layers import Dense, BatchNormalization, Dropout, Conv2D, MaxPooling2D ,Flatten# 완전 연결계층을 구성하기 위한 모듈 \n",
    "from tensorflow.keras.utils import to_categorical # one encoding 하는 모듈 \n",
    "from tensorflow.keras.optimizers import Adam \n",
    "\n",
    "tf.random.set_seed(777) "
   ]
  },
  {
   "cell_type": "code",
   "execution_count": null,
   "metadata": {},
   "outputs": [],
   "source": [
    "# 2. 정규화 진행   \n",
    "\n",
    "x_train = x_train.reshape(-1, 32, 32, 3) / 255 \n",
    "x_test = x_test.reshape(-1, 32,32, 3) / 255 \n",
    "\n",
    "# 3. 정답 데이터를 준비한다.  \n",
    "\n",
    "# 하나의 숫자를 one hot encoding 한다. (예:  4 ---> 0 0 0 0 1 0 0 0 0 0 )  \n",
    "\n",
    "y_train = to_categorical(y_train)  # 훈련 데이터의 라벨(정답)을 원핫 인코딩 \n",
    "y_test = to_categorical(y_test)    # 테스트 데이터의 라벨(정답)을 원핫 인코딩  \n",
    "\n",
    "print(x_train.shape) \n",
    "print(x_test.shape) \n",
    "print(y_train.shape) \n",
    "print(y_test.shape) "
   ]
  },
  {
   "cell_type": "code",
   "execution_count": null,
   "metadata": {},
   "outputs": [],
   "source": [
    "from tensorflow.keras.applications import * \n",
    "resnet50 = ResNet50( weights = None, input_shape = None, include_top = True ) "
   ]
  },
  {
   "cell_type": "code",
   "execution_count": null,
   "metadata": {},
   "outputs": [],
   "source": [
    "# 4. 모델을 구성합니다. 3층 신경망으로 구성 \n",
    "\n",
    "model = Sequential() \n",
    "\n",
    "model.add(resnet50) \n",
    "\n",
    "model.add( Flatten() ) \n",
    "model.add(Dense(100, activation = 'relu', input_shape = (32*32, )))  # 1층 \n",
    "model.add(BatchNormalization()) \n",
    "model.add(Dropout(0.3)) \n",
    "model.add(Dense(100, activation = 'relu') ) # 2층 은닉층  \n",
    "model.add(BatchNormalization()) \n",
    "model.add(Dropout(0.3)) \n",
    "model.add(Dense(2, activation = 'softmax'))  # 3층 출력층  "
   ]
  },
  {
   "cell_type": "code",
   "execution_count": null,
   "metadata": {},
   "outputs": [],
   "source": [
    "# 5. 모델을 설정합니다. ( 경사하강법, 오차함수를 정의해줍니다. ) \n",
    "\n",
    "\n",
    "model.compile(optimizer=Adam(1e-4),                         # 정확도가 들쭉날쭉하면 러닝레이트를 해주자 \n",
    "                     loss = 'binary_crossentropy',  \n",
    "                     metrics=['acc'])  # 학습과정에서 정확도를 보려고  \n",
    "\n",
    "#6. 모델을 훈련시킵니다.  \n",
    "from tensorflow.keras.callbacks import EarlyStopping \n",
    "\n",
    "\n",
    "# 콜백을 정의합니다. \n",
    "callbacks = [EarlyStopping(monitor = 'val_acc', patience = 20, verbose = 1)] \n",
    "\n",
    "# callbacks 인자를 통해 정의한 콜백을 전달합니다. \n",
    "\n",
    "history= model.fit(x_train, y_train, \n",
    "         batch_size = 100, \n",
    "         validation_data = (x_test, y_test), \n",
    "         epochs = 200 , \n",
    "         callbacks = callbacks) "
   ]
  },
  {
   "cell_type": "code",
   "execution_count": null,
   "metadata": {},
   "outputs": [],
   "source": [
    "# 모델 저장 \n",
    "\n",
    "model.save('/content/drive/MyDrive/dogcat/dogcat_vgg16.h5') "
   ]
  },
  {
   "cell_type": "code",
   "execution_count": null,
   "metadata": {},
   "outputs": [],
   "source": [
    "# 7.모델을 평가합니다. (오차, 정확도가 출력됩니다.) \n",
    "\n",
    "model.evaluate(x_test, y_test) "
   ]
  },
  {
   "cell_type": "code",
   "execution_count": null,
   "metadata": {},
   "outputs": [],
   "source": [
    "train_acc_list=history.history['acc'] \n",
    "# train_acc_list \n",
    "\n",
    "test_acc_list=history.history['val_acc'] \n",
    "# test_acc_list "
   ]
  },
  {
   "cell_type": "code",
   "execution_count": null,
   "metadata": {},
   "outputs": [],
   "source": [
    "import  matplotlib.pyplot  as  plt \n",
    "\n",
    "\n",
    "x = np.arange( len(train_acc_list) ) \n",
    "plt.plot( x, train_acc_list, label='train acc') \n",
    "plt.plot( x, test_acc_list, label='test acc',  linestyle='--') \n",
    "plt.ylim(0, 1) \n",
    "plt.legend(loc='lower right') \n",
    "plt.xlabel('epochs') \n",
    "plt.ylabel('accuracy') \n",
    "plt.show() "
   ]
  },
  {
   "cell_type": "code",
   "execution_count": null,
   "metadata": {},
   "outputs": [],
   "source": []
  },
  {
   "cell_type": "code",
   "execution_count": null,
   "metadata": {},
   "outputs": [],
   "source": [
    "# 사진 한장씩 넣어보기 코드 \n",
    "\n",
    "# 1. 모델을 불러옵니다. \n",
    "\n",
    "from tensorflow.keras.models import load_model \n",
    "\n",
    "new_model = load_model('/content/drive/MyDrive/dogcat/dogcat_vgg16.h5') \n",
    "\n",
    "for i in range(1,101): \n",
    "\n",
    "    img_path = '/content/drive/MyDrive/dogcat/test/'+str(i)+'.jpg' \n",
    "\n",
    "    img = cv2.imread(img_path) \n",
    "\n",
    "    #img = cv2.bitwise_not(img) \n",
    "\n",
    "    # print(img.shape) \n",
    "\n",
    "    import tensorflow.compat.v1 as tf \n",
    "\n",
    "    tf.disable_v2_behavior() \n",
    "\n",
    "    resized_images=tf.image.resize_images(img, (32, 32)) \n",
    "\n",
    "    # print(resized_images.shape) \n",
    "\n",
    "    import numpy as np \n",
    "\n",
    "\n",
    "    x2 =tf.reshape(resized_images, [-1,32,32,3]) \n",
    "\n",
    "    # print(x2.shape) \n",
    "\n",
    "    from tensorflow.keras.models import load_model \n",
    "\n",
    "    new_model = load_model('/content/drive/MyDrive/dogcat/dogcat_vgg16.h5') \n",
    "    results = new_model.predict(x2,steps=1) \n",
    "\n",
    "    print(np.argmax(results))  # 1 이 강아지, 0 이 고양이 "
   ]
  },
  {
   "cell_type": "code",
   "execution_count": null,
   "metadata": {},
   "outputs": [],
   "source": []
  },
  {
   "cell_type": "code",
   "execution_count": null,
   "metadata": {},
   "outputs": [],
   "source": []
  },
  {
   "cell_type": "code",
   "execution_count": null,
   "metadata": {},
   "outputs": [],
   "source": []
  },
  {
   "cell_type": "code",
   "execution_count": null,
   "metadata": {},
   "outputs": [],
   "source": []
  },
  {
   "cell_type": "code",
   "execution_count": null,
   "metadata": {},
   "outputs": [],
   "source": []
  },
  {
   "cell_type": "code",
   "execution_count": null,
   "metadata": {},
   "outputs": [],
   "source": []
  },
  {
   "cell_type": "code",
   "execution_count": null,
   "metadata": {},
   "outputs": [],
   "source": []
  },
  {
   "cell_type": "code",
   "execution_count": null,
   "metadata": {},
   "outputs": [],
   "source": []
  }
 ],
 "metadata": {
  "language_info": {
   "name": "python"
  },
  "orig_nbformat": 4
 },
 "nbformat": 4,
 "nbformat_minor": 2
}
